{
 "cells": [
  {
   "cell_type": "code",
   "execution_count": 11,
   "metadata": {},
   "outputs": [],
   "source": [
    "using LinearAlgebra"
   ]
  },
  {
   "cell_type": "code",
   "execution_count": 12,
   "metadata": {},
   "outputs": [
    {
     "data": {
      "text/plain": [
       "64-element Vector{Tuple{Int64, Int64}}:\n",
       " (1, 1)\n",
       " (1, 2)\n",
       " (1, 3)\n",
       " (1, 4)\n",
       " (1, 5)\n",
       " (1, 6)\n",
       " (1, 7)\n",
       " (1, 8)\n",
       " (2, 1)\n",
       " (2, 2)\n",
       " ⋮\n",
       " (7, 8)\n",
       " (8, 1)\n",
       " (8, 2)\n",
       " (8, 3)\n",
       " (8, 4)\n",
       " (8, 5)\n",
       " (8, 6)\n",
       " (8, 7)\n",
       " (8, 8)"
      ]
     },
     "metadata": {},
     "output_type": "display_data"
    },
    {
     "name": "stdout",
     "output_type": "stream",
     "text": [
      "Total Linear Momentum: [0.0 0.0]\n",
      "Initial Positions:\n"
     ]
    },
    {
     "name": "stderr",
     "output_type": "stream",
     "text": [
      "WARNING: replacing module MD_LJ.\n"
     ]
    },
    {
     "data": {
      "text/plain": [
       "64×2 Matrix{Float64}:\n",
       "  0.702486  -1.61731\n",
       "  0.642447   0.348304\n",
       "  0.189021   0.00229927\n",
       " -0.814673  -2.18453\n",
       "  1.29481   -1.21868\n",
       "  1.14001   -0.46908\n",
       " -0.473647   0.887128\n",
       "  0.640865   1.03324\n",
       " -0.692899   0.699389\n",
       "  1.41638    0.575108\n",
       "  ⋮         \n",
       " -0.137288  -0.231608\n",
       "  0.607501   0.844296\n",
       "  0.453009  -0.295545\n",
       " -0.222878   0.765319\n",
       "  0.253084  -2.48329\n",
       " -0.266302  -0.93157\n",
       " -1.13763    0.386758\n",
       "  0.749745   0.653857\n",
       "  0.21072    0.340657"
      ]
     },
     "metadata": {},
     "output_type": "display_data"
    },
    {
     "name": "stdout",
     "output_type": "stream",
     "text": [
      "Initial Velocities:\n",
      "Vector{Tuple{Int64, Int64}}\n",
      "Matrix{Float64}\n",
      "Total Linear Momentum: [0.0 0.0]\n"
     ]
    },
    {
     "name": "stdout",
     "output_type": "stream",
     "text": [
      "Equilibrium reached in steps.\n",
      "Kinetic Energy: 70.5996616403376\n",
      "Potential Energy: -59.001399290798965\n",
      "Total Energy: 11.598262349538636\n",
      "Temperature: 0.7354131420868499\n"
     ]
    },
    {
     "data": {
      "text/plain": [
       "64-element Vector{Tuple{Int64, Int64}}:\n",
       " (1, 1)\n",
       " (1, 2)\n",
       " (1, 3)\n",
       " (1, 4)\n",
       " (1, 5)\n",
       " (1, 6)\n",
       " (1, 7)\n",
       " (1, 8)\n",
       " (2, 1)\n",
       " (2, 2)\n",
       " ⋮\n",
       " (7, 8)\n",
       " (8, 1)\n",
       " (8, 2)\n",
       " (8, 3)\n",
       " (8, 4)\n",
       " (8, 5)\n",
       " (8, 6)\n",
       " (8, 7)\n",
       " (8, 8)"
      ]
     },
     "metadata": {},
     "output_type": "display_data"
    },
    {
     "data": {
      "text/plain": [
       "64×2 Matrix{Float64}:\n",
       "  0.730635   -0.832997\n",
       "  0.472651    0.110467\n",
       " -0.944609    0.264187\n",
       " -0.212294    2.17404\n",
       "  0.0702086   1.04974\n",
       " -0.014024   -1.11326\n",
       "  1.03228     0.817619\n",
       " -0.496302    0.514605\n",
       "  0.314656   -1.37948\n",
       " -1.0057      0.0176254\n",
       "  ⋮          \n",
       " -1.88245     2.83468\n",
       " -0.682568   -0.17867\n",
       "  1.01785    -0.310225\n",
       "  1.62924     0.121035\n",
       "  0.460669   -0.942651\n",
       "  0.786458    0.39495\n",
       " -1.01905    -1.29976\n",
       " -0.42299     0.47327\n",
       "  0.535604   -1.864"
      ]
     },
     "metadata": {},
     "output_type": "display_data"
    },
    {
     "name": "stdout",
     "output_type": "stream",
     "text": [
      "Total Linear Momentum: [0.0 0.0]\n",
      "Initial Positions:\n",
      "Initial Velocities:\n",
      "Vector{Tuple{Int64, Int64}}\n",
      "Matrix{Float64}\n"
     ]
    },
    {
     "data": {
      "text/plain": [
       "Main.MD_LJ"
      ]
     },
     "metadata": {},
     "output_type": "display_data"
    }
   ],
   "source": [
    "\n",
    "include(\"./../src/MD_LJ.jl\")\n"
   ]
  },
  {
   "cell_type": "markdown",
   "metadata": {},
   "source": [
    "## Algorithm\n",
    "1. prepare the initial position $R_o$ and velocity $V_o$.\n",
    "2. calculate the force (acceleration) $G_o$ for the prepared initial position $R_o$ using the interparticale potential.\n",
    "3. calculate the new position $R_1$ using the equation:\n",
    " $R_{n+1}=R_n+\\tau V_n +\\frac{\\tau^2}{2}G_n +\\mathcal{O}(\\tau^3)$\n",
    "4. calculate the force (acceleration) $G_1$ using $R_1$.\n",
    "5. calculate the new velocity $V_1$ using equation:\n",
    "$v_{n+1}=v_n+\\frac{\\tau}{2}(G_n+G_{n+1})+\\mathcal{O}(\\tau^3)$\n",
    "6. Repeat 3-5 until teh system reaches equilibrium.\n",
    " criteria for equilibrium :\n",
    " <T> or <P> does not change with time.\n",
    " \n",
    "## Boundary conditions\n",
    "Maximum number of particles : 10^6\n",
    "    if x>L , x=x-L\n",
    "    x<0 , x=x+L \n",
    "    \n",
    "same condition applies for y direction.\n",
    "\n",
    "with the boundary conditions, the minimum distance between two particales is L/2.\n",
    "dx=x(1)-x(2)\n",
    "if dx>L/2, then dx=dx-L\n",
    "if dx<-L/2, then dx+L; L=length of original cell.\n",
    "infinite system but the motion of the particale in the image cells (rest of the system) is identical to that in the original cell.\n",
    "only the motion of the particle in the original cell needs to be followed.\n",
    "\n",
    "\n",
    "## Program details for MD simulation using Lennard-Jones potential.\n",
    "1. declare arrays and common blocks for parameters being used in all the subroutines.\n",
    "2. Call initialization.\n",
    "3. calculate acceleration from force.\n",
    "4. Energy = kinetic energy + potential energy \n",
    "5. number of loop=0\n",
    "6. loop\n",
    "    1. call verlet: algorithm +periodic conditions\n",
    "    2. call output: calculate kinetic energy + potential energy , temperature.\n",
    "7. save the final configuration for a new run. \n"
   ]
  },
  {
   "cell_type": "code",
   "execution_count": null,
   "metadata": {},
   "outputs": [],
   "source": []
  },
  {
   "cell_type": "markdown",
   "metadata": {},
   "source": [
    "## Temperature\n",
    "$<\\sum_i^N \\frac{1}{2}mv_i^2>=\\frac{1}{2}k_B T dN=\\frac{1}{M}\\sum_i^M E_k(t_i)\\\\$, d:dimension, N:number of particles.\n",
    "## Pressure\n",
    "$P(t)=\\frac{N}{V}k_B T(t)+\\frac{1}{dV}\\sum_{i<j}r_{ij}(t)F_{ij}(t)$, $r_{ij}=r_i-r_j\\\\$, $F_{ij}$=force on particle i due to particle j.\n",
    "Mean pressure, P=<P(t)>"
   ]
  },
  {
   "cell_type": "code",
   "execution_count": null,
   "metadata": {},
   "outputs": [],
   "source": []
  },
  {
   "cell_type": "markdown",
   "metadata": {},
   "source": [
    "## Pair distribution function $g(r,r\\prime)$\n",
    "$P_2(r,r\\prime)=<P(r)>g(r,r\\prime)<p(r\\prime)>\\\\$, where $P_2(r,r\\prime)$ is density and two-point formula, $g(r,r\\prime)$ is thermal average of density operator.\n",
    "## Thermal average of A.\n",
    "$<A>=\\frac{1}{Z}\\int A(R)W(R)dR\\\\$,\n",
    "where $Z=\\int W(R)dR\\\\$,\n",
    "R= a point in phase space,\n",
    "$dR=dr_1 dr_2\\cdots dr_N\\\\$,\n",
    "N=Number of particles.\n",
    "## G(u)\n",
    "$g(u)=\\frac{V}{N}<\\sum_i^N\\delta(u-(r_i-r_0))>\\\\$\n",
    "    For Lennard-Jones potential:$\\\\$\n",
    "    g(r)=0 when r---> 0;$\\\\$\n",
    "    g(r)=1 when r---> infinity.\n",
    "## Normalization factor of $g(r)$\n",
    "$\\int_V <P>g(r)dr=N-1,---> g(r)=1-\\frac{1}{N}$"
   ]
  },
  {
   "cell_type": "markdown",
   "metadata": {},
   "source": []
  }
 ],
 "metadata": {
  "kernelspec": {
   "display_name": "Julia 1.9.4",
   "language": "julia",
   "name": "julia-1.9"
  },
  "language_info": {
   "file_extension": ".jl",
   "mimetype": "application/julia",
   "name": "julia",
   "version": "1.9.4"
  }
 },
 "nbformat": 4,
 "nbformat_minor": 2
}
